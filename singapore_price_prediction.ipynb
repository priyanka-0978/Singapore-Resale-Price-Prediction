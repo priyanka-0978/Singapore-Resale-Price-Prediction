{
 "cells": [
  {
   "cell_type": "code",
   "execution_count": 221,
   "id": "2d7f9f14-fd8d-4b87-a435-8eca38f6639c",
   "metadata": {},
   "outputs": [],
   "source": [
    "import pandas as pd\n",
    "import numpy as np"
   ]
  },
  {
   "cell_type": "code",
   "execution_count": 222,
   "id": "b2d61d2f-1e4d-4255-9585-e1a14e8c2c8b",
   "metadata": {},
   "outputs": [],
   "source": [
    "df1=pd.read_csv(r\"C:\\Users\\HP1\\ResaleFlatPricesBasedonApprovalDate19901999.csv\")\n",
    "df2=pd.read_csv(r\"C:\\Users\\HP1\\ResaleFlatPricesBasedonApprovalDate2000Feb2012.csv\")\n",
    "df3=pd.read_csv(r\"C:\\Users\\HP1\\ResaleFlatPricesBasedonRegistrationDateFromMar2012toDec2014.csv\")\n",
    "df4=pd.read_csv(r\"C:\\Users\\HP1\\ResaleFlatPricesBasedonRegistrationDateFromJan2015toDec2016.csv\")\n",
    "df5=pd.read_csv(r\"C:\\Users\\HP1\\ResaleflatpricesbasedonregistrationdatefromJan2017onwards.csv\")\n",
    "\n"
   ]
  },
  {
   "cell_type": "code",
   "execution_count": 223,
   "id": "8d98b115-1ba5-4e90-baf8-4fbd0c26fd37",
   "metadata": {},
   "outputs": [
    {
     "data": {
      "text/html": [
       "<div>\n",
       "<style scoped>\n",
       "    .dataframe tbody tr th:only-of-type {\n",
       "        vertical-align: middle;\n",
       "    }\n",
       "\n",
       "    .dataframe tbody tr th {\n",
       "        vertical-align: top;\n",
       "    }\n",
       "\n",
       "    .dataframe thead th {\n",
       "        text-align: right;\n",
       "    }\n",
       "</style>\n",
       "<table border=\"1\" class=\"dataframe\">\n",
       "  <thead>\n",
       "    <tr style=\"text-align: right;\">\n",
       "      <th></th>\n",
       "      <th>month</th>\n",
       "      <th>town</th>\n",
       "      <th>flat_type</th>\n",
       "      <th>block</th>\n",
       "      <th>street_name</th>\n",
       "      <th>storey_range</th>\n",
       "      <th>floor_area_sqm</th>\n",
       "      <th>flat_model</th>\n",
       "      <th>lease_commence_date</th>\n",
       "      <th>resale_price</th>\n",
       "      <th>remaining_lease</th>\n",
       "    </tr>\n",
       "  </thead>\n",
       "  <tbody>\n",
       "    <tr>\n",
       "      <th>0</th>\n",
       "      <td>1990-01</td>\n",
       "      <td>ANG MO KIO</td>\n",
       "      <td>1 ROOM</td>\n",
       "      <td>309</td>\n",
       "      <td>ANG MO KIO AVE 1</td>\n",
       "      <td>10 TO 12</td>\n",
       "      <td>31.0</td>\n",
       "      <td>IMPROVED</td>\n",
       "      <td>1977</td>\n",
       "      <td>9000.0</td>\n",
       "      <td>NaN</td>\n",
       "    </tr>\n",
       "    <tr>\n",
       "      <th>1</th>\n",
       "      <td>1990-01</td>\n",
       "      <td>ANG MO KIO</td>\n",
       "      <td>1 ROOM</td>\n",
       "      <td>309</td>\n",
       "      <td>ANG MO KIO AVE 1</td>\n",
       "      <td>04 TO 06</td>\n",
       "      <td>31.0</td>\n",
       "      <td>IMPROVED</td>\n",
       "      <td>1977</td>\n",
       "      <td>6000.0</td>\n",
       "      <td>NaN</td>\n",
       "    </tr>\n",
       "    <tr>\n",
       "      <th>2</th>\n",
       "      <td>1990-01</td>\n",
       "      <td>ANG MO KIO</td>\n",
       "      <td>1 ROOM</td>\n",
       "      <td>309</td>\n",
       "      <td>ANG MO KIO AVE 1</td>\n",
       "      <td>10 TO 12</td>\n",
       "      <td>31.0</td>\n",
       "      <td>IMPROVED</td>\n",
       "      <td>1977</td>\n",
       "      <td>8000.0</td>\n",
       "      <td>NaN</td>\n",
       "    </tr>\n",
       "    <tr>\n",
       "      <th>3</th>\n",
       "      <td>1990-01</td>\n",
       "      <td>ANG MO KIO</td>\n",
       "      <td>1 ROOM</td>\n",
       "      <td>309</td>\n",
       "      <td>ANG MO KIO AVE 1</td>\n",
       "      <td>07 TO 09</td>\n",
       "      <td>31.0</td>\n",
       "      <td>IMPROVED</td>\n",
       "      <td>1977</td>\n",
       "      <td>6000.0</td>\n",
       "      <td>NaN</td>\n",
       "    </tr>\n",
       "    <tr>\n",
       "      <th>4</th>\n",
       "      <td>1990-01</td>\n",
       "      <td>ANG MO KIO</td>\n",
       "      <td>3 ROOM</td>\n",
       "      <td>216</td>\n",
       "      <td>ANG MO KIO AVE 1</td>\n",
       "      <td>04 TO 06</td>\n",
       "      <td>73.0</td>\n",
       "      <td>NEW GENERATION</td>\n",
       "      <td>1976</td>\n",
       "      <td>47200.0</td>\n",
       "      <td>NaN</td>\n",
       "    </tr>\n",
       "  </tbody>\n",
       "</table>\n",
       "</div>"
      ],
      "text/plain": [
       "     month        town flat_type block       street_name storey_range  \\\n",
       "0  1990-01  ANG MO KIO    1 ROOM   309  ANG MO KIO AVE 1     10 TO 12   \n",
       "1  1990-01  ANG MO KIO    1 ROOM   309  ANG MO KIO AVE 1     04 TO 06   \n",
       "2  1990-01  ANG MO KIO    1 ROOM   309  ANG MO KIO AVE 1     10 TO 12   \n",
       "3  1990-01  ANG MO KIO    1 ROOM   309  ANG MO KIO AVE 1     07 TO 09   \n",
       "4  1990-01  ANG MO KIO    3 ROOM   216  ANG MO KIO AVE 1     04 TO 06   \n",
       "\n",
       "   floor_area_sqm      flat_model  lease_commence_date  resale_price  \\\n",
       "0            31.0        IMPROVED                 1977        9000.0   \n",
       "1            31.0        IMPROVED                 1977        6000.0   \n",
       "2            31.0        IMPROVED                 1977        8000.0   \n",
       "3            31.0        IMPROVED                 1977        6000.0   \n",
       "4            73.0  NEW GENERATION                 1976       47200.0   \n",
       "\n",
       "  remaining_lease  \n",
       "0             NaN  \n",
       "1             NaN  \n",
       "2             NaN  \n",
       "3             NaN  \n",
       "4             NaN  "
      ]
     },
     "execution_count": 223,
     "metadata": {},
     "output_type": "execute_result"
    }
   ],
   "source": [
    "df=pd.concat([df1,df2,df3,df4,df5])\n",
    "df.head(5)"
   ]
  },
  {
   "cell_type": "code",
   "execution_count": 224,
   "id": "1032468c-034f-47a0-967d-baf7a8a20cfe",
   "metadata": {},
   "outputs": [
    {
     "data": {
      "text/plain": [
       "month                       0\n",
       "town                        0\n",
       "flat_type                   0\n",
       "block                       0\n",
       "street_name                 0\n",
       "storey_range                0\n",
       "floor_area_sqm              0\n",
       "flat_model                  0\n",
       "lease_commence_date         0\n",
       "resale_price                0\n",
       "remaining_lease        709050\n",
       "dtype: int64"
      ]
     },
     "execution_count": 224,
     "metadata": {},
     "output_type": "execute_result"
    }
   ],
   "source": [
    "df.isnull().sum()"
   ]
  },
  {
   "cell_type": "code",
   "execution_count": 225,
   "id": "e6c8ace8-160e-4db4-8472-bcc1079da9aa",
   "metadata": {},
   "outputs": [],
   "source": [
    "#removing remaining lease bcoz there is lots of null values\n",
    "df=df.drop([\"remaining_lease\"],axis=1)"
   ]
  },
  {
   "cell_type": "code",
   "execution_count": 226,
   "id": "c3616713-1005-43e6-a9f7-33d5349182c2",
   "metadata": {},
   "outputs": [
    {
     "name": "stdout",
     "output_type": "stream",
     "text": [
      "<class 'pandas.core.frame.DataFrame'>\n",
      "Index: 911362 entries, 0 to 165158\n",
      "Data columns (total 10 columns):\n",
      " #   Column               Non-Null Count   Dtype  \n",
      "---  ------               --------------   -----  \n",
      " 0   month                911362 non-null  object \n",
      " 1   town                 911362 non-null  object \n",
      " 2   flat_type            911362 non-null  object \n",
      " 3   block                911362 non-null  object \n",
      " 4   street_name          911362 non-null  object \n",
      " 5   storey_range         911362 non-null  object \n",
      " 6   floor_area_sqm       911362 non-null  float64\n",
      " 7   flat_model           911362 non-null  object \n",
      " 8   lease_commence_date  911362 non-null  int64  \n",
      " 9   resale_price         911362 non-null  float64\n",
      "dtypes: float64(2), int64(1), object(7)\n",
      "memory usage: 76.5+ MB\n"
     ]
    }
   ],
   "source": [
    "df.info()"
   ]
  },
  {
   "cell_type": "code",
   "execution_count": 227,
   "id": "804ce45a-aeaf-46cc-8801-4de587728ccf",
   "metadata": {},
   "outputs": [
    {
     "data": {
      "text/plain": [
       "month                  0\n",
       "town                   0\n",
       "flat_type              0\n",
       "block                  0\n",
       "street_name            0\n",
       "storey_range           0\n",
       "floor_area_sqm         0\n",
       "flat_model             0\n",
       "lease_commence_date    0\n",
       "resale_price           0\n",
       "dtype: int64"
      ]
     },
     "execution_count": 227,
     "metadata": {},
     "output_type": "execute_result"
    }
   ],
   "source": [
    "df.isnull().sum()"
   ]
  },
  {
   "cell_type": "code",
   "execution_count": 228,
   "id": "7fbd6fef-c636-48b1-a523-cb9a833e2017",
   "metadata": {},
   "outputs": [
    {
     "data": {
      "text/plain": [
       "month                   407\n",
       "town                     27\n",
       "flat_type                 8\n",
       "block                  2690\n",
       "street_name             582\n",
       "storey_range             25\n",
       "floor_area_sqm          210\n",
       "flat_model               34\n",
       "lease_commence_date      56\n",
       "resale_price           9312\n",
       "dtype: int64"
      ]
     },
     "execution_count": 228,
     "metadata": {},
     "output_type": "execute_result"
    }
   ],
   "source": [
    "df.nunique()"
   ]
  },
  {
   "cell_type": "code",
   "execution_count": 230,
   "id": "9aaadd8b-d6b7-4916-8136-f56016a58791",
   "metadata": {},
   "outputs": [],
   "source": [
    "df[\"year\"]=df[\"month\"].apply(lambda x:(x[0:4]))                   #extracted year\n",
    "df[\"months\"]=df[\"month\"].apply(lambda x:(x[5:7]))                   #extracted month\n"
   ]
  },
  {
   "cell_type": "code",
   "execution_count": 231,
   "id": "fb64ffe3-9ed8-4718-a029-54ed91b5671a",
   "metadata": {},
   "outputs": [],
   "source": [
    "df[\"months\"]=df[\"months\"].astype('int64')\n",
    "df[\"year\"]=df[\"year\"].astype(\"int64\")"
   ]
  },
  {
   "cell_type": "code",
   "execution_count": 232,
   "id": "1ec34977-a8f0-48cc-b22b-b42b21e80551",
   "metadata": {},
   "outputs": [],
   "source": [
    "df=df.drop(['month'],axis=1)                          #dropping the original column after extracting year and month"
   ]
  },
  {
   "cell_type": "code",
   "execution_count": 233,
   "id": "8de16fe5-b25b-4dc5-a023-da94d401e6ac",
   "metadata": {},
   "outputs": [
    {
     "data": {
      "text/plain": [
       "Index(['town', 'flat_type', 'block', 'street_name', 'storey_range',\n",
       "       'flat_model'],\n",
       "      dtype='object')"
      ]
     },
     "execution_count": 233,
     "metadata": {},
     "output_type": "execute_result"
    }
   ],
   "source": [
    "df.select_dtypes([\"object\"]).columns"
   ]
  },
  {
   "cell_type": "code",
   "execution_count": 234,
   "id": "85d5fe23-73db-4b76-85a4-cc1cb95c6324",
   "metadata": {},
   "outputs": [
    {
     "name": "stdout",
     "output_type": "stream",
     "text": [
      "['ANG MO KIO', 'BEDOK', 'BISHAN', 'BUKIT BATOK', 'BUKIT MERAH', 'BUKIT TIMAH', 'CENTRAL AREA', 'CHOA CHU KANG', 'CLEMENTI', 'GEYLANG', 'HOUGANG', 'JURONG EAST', 'JURONG WEST', 'KALLANG/WHAMPOA', 'MARINE PARADE', 'QUEENSTOWN', 'SENGKANG', 'SERANGOON', 'TAMPINES', 'TOA PAYOH', 'WOODLANDS', 'YISHUN', 'LIM CHU KANG', 'SEMBAWANG', 'BUKIT PANJANG', 'PASIR RIS', 'PUNGGOL']\n"
     ]
    }
   ],
   "source": [
    "town=[]\n",
    "for i in (df[\"town\"].unique()):\n",
    "    town.append(i)\n",
    "print(town)"
   ]
  },
  {
   "cell_type": "code",
   "execution_count": 235,
   "id": "e30855dd-d5ca-4550-b162-689a60423d36",
   "metadata": {},
   "outputs": [
    {
     "name": "stdout",
     "output_type": "stream",
     "text": [
      "['1 ROOM', '3 ROOM', '4 ROOM', '5 ROOM', '2 ROOM', 'EXECUTIVE', 'MULTI GENERATION', 'MULTI-GENERATION']\n"
     ]
    }
   ],
   "source": [
    "flat_type=[]\n",
    "for i in (df[\"flat_type\"].unique()):\n",
    "    flat_type.append(i)\n",
    "print(flat_type)"
   ]
  },
  {
   "cell_type": "code",
   "execution_count": 236,
   "id": "da59447d-4831-4ee1-96c8-54b34c9ce30f",
   "metadata": {},
   "outputs": [
    {
     "name": "stdout",
     "output_type": "stream",
     "text": [
      "['10 TO 12', '04 TO 06', '07 TO 09', '01 TO 03', '13 TO 15', '19 TO 21', '16 TO 18', '25 TO 27', '22 TO 24', '28 TO 30', '31 TO 33', '40 TO 42', '37 TO 39', '34 TO 36', '06 TO 10', '01 TO 05', '11 TO 15', '16 TO 20', '21 TO 25', '26 TO 30', '36 TO 40', '31 TO 35', '46 TO 48', '43 TO 45', '49 TO 51']\n"
     ]
    }
   ],
   "source": [
    "storey_range=[]\n",
    "for i in (df[\"storey_range\"].unique()):\n",
    "    storey_range.append(i)\n",
    "print(storey_range)"
   ]
  },
  {
   "cell_type": "code",
   "execution_count": 237,
   "id": "6c369fd3-b7dd-458a-8cda-61e447603b9f",
   "metadata": {},
   "outputs": [
    {
     "name": "stdout",
     "output_type": "stream",
     "text": [
      "['IMPROVED', 'NEW GENERATION', 'MODEL A', 'STANDARD', 'SIMPLIFIED', 'MODEL A-MAISONETTE', 'APARTMENT', 'MAISONETTE', 'TERRACE', '2-ROOM', 'IMPROVED-MAISONETTE', 'MULTI GENERATION', 'PREMIUM APARTMENT', 'Improved', 'New Generation', 'Model A', 'Standard', 'Apartment', 'Simplified', 'Model A-Maisonette', 'Maisonette', 'Multi Generation', 'Adjoined flat', 'Premium Apartment', 'Terrace', 'Improved-Maisonette', 'Premium Maisonette', '2-room', 'Model A2', 'DBSS', 'Type S1', 'Type S2', 'Premium Apartment Loft', '3Gen']\n",
      "34\n"
     ]
    }
   ],
   "source": [
    "flat_model=[]\n",
    "for i in (df[\"flat_model\"].unique()):\n",
    "    flat_model.append(i)\n",
    "print(flat_model)\n",
    "print(len(flat_model))"
   ]
  },
  {
   "cell_type": "code",
   "execution_count": 238,
   "id": "bc983754-e50c-40a1-91ff-8f87bae9cd5c",
   "metadata": {},
   "outputs": [],
   "source": [
    "df=df.drop(['block','street_name'],axis=1)"
   ]
  },
  {
   "cell_type": "code",
   "execution_count": 239,
   "id": "cb73ac6f-dc33-4989-9a39-0b2967d0c053",
   "metadata": {},
   "outputs": [],
   "source": [
    "#replacing the values that are type incorrectly\n",
    "df[\"flat_model\"]=df[\"flat_model\"].apply(lambda x:x.replace(\"Improved\",\"IMPROVED\"))\n",
    "df[\"flat_model\"]=df[\"flat_model\"].apply(lambda x:x.replace(\"New Generation\",\"NEW GENERATION\"))\n",
    "df[\"flat_model\"]=df[\"flat_model\"].apply(lambda x:x.replace(\"Model A\",\"MODEL A\"))\n",
    "df[\"flat_model\"]=df[\"flat_model\"].apply(lambda x:x.replace(\"Standard\",\"STANDARD\"))\n",
    "df[\"flat_model\"]=df[\"flat_model\"].apply(lambda x:x.replace(\"Apartment\",\"APARTMENT\"))\n",
    "df[\"flat_model\"]=df[\"flat_model\"].apply(lambda x:x.replace(\"Simplified\",\"SIMPLIFIED\"))\n",
    "df[\"flat_model\"]=df[\"flat_model\"].apply(lambda x:x.replace(\"Maisonette\",\"MAISONETTE\"))\n",
    "df[\"flat_model\"]=df[\"flat_model\"].apply(lambda x:x.replace(\"Multi Generation\",\"MULTI GENERATION\"))\n",
    "df[\"flat_model\"]=df[\"flat_model\"].apply(lambda x:x.replace(\"Premium Apartment\",\"PREMIUM APARTMENT\"))\n",
    "df[\"flat_model\"]=df[\"flat_model\"].apply(lambda x:x.replace(\"Terrace\",\"TERRACE\"))\n",
    "df[\"flat_model\"]=df[\"flat_model\"].apply(lambda x:x.replace(\"Improved-Maisonette\",\"IMPROVED-MAISONETTE\"))\n",
    "df[\"flat_model\"]=df[\"flat_model\"].apply(lambda x:x.replace(\"2-room\",\"2-ROOM\"))\n"
   ]
  },
  {
   "cell_type": "code",
   "execution_count": 240,
   "id": "9cec8fd5-5048-4312-832e-03b28c10e636",
   "metadata": {},
   "outputs": [
    {
     "name": "stdout",
     "output_type": "stream",
     "text": [
      "22\n"
     ]
    }
   ],
   "source": [
    "flat_model=df[\"flat_model\"].unique()\n",
    "print(len(flat_model))"
   ]
  },
  {
   "cell_type": "code",
   "execution_count": 179,
   "id": "53c8a00b-51a6-4ae1-b40f-f1ff71274c19",
   "metadata": {},
   "outputs": [],
   "source": [
    "#converting to csv file to use it later\n",
    "df.to_csv(\"singapore.csv\",index=False)"
   ]
  },
  {
   "cell_type": "code",
   "execution_count": 241,
   "id": "65ea8c26-b890-440a-8b4a-075c57f57bae",
   "metadata": {},
   "outputs": [],
   "source": [
    "#encoding the categorical column\n",
    "from sklearn.preprocessing import OrdinalEncoder\n",
    "encoder=OrdinalEncoder()\n",
    "df[\"storey_range\"]=encoder.fit_transform(df[[\"storey_range\"]])\n",
    "df[\"flat_type\"]=encoder.fit_transform(df[[\"flat_type\"]])"
   ]
  },
  {
   "cell_type": "code",
   "execution_count": 243,
   "id": "9a387f47-c543-4c77-b84c-6574cddbea48",
   "metadata": {},
   "outputs": [],
   "source": [
    "#for finding out the correlation between the features var and target var\n",
    "df1=df.iloc[:,[1,2,3,5,6,7,8]]"
   ]
  },
  {
   "cell_type": "code",
   "execution_count": 245,
   "id": "643fa8df-397c-4d3b-811a-8dbd83d8fdef",
   "metadata": {},
   "outputs": [
    {
     "data": {
      "text/plain": [
       "<Axes: >"
      ]
     },
     "execution_count": 245,
     "metadata": {},
     "output_type": "execute_result"
    },
    {
     "data": {
      "image/png": "[encoded data removed]",
      "text/plain": [
       "<Figure size 640x480 with 2 Axes>"
      ]
     },
     "metadata": {},
     "output_type": "display_data"
    }
   ],
   "source": [
    "import seaborn as sns\n",
    "sns.heatmap(df1.corr(),annot=True,cmap=\"Oranges\")"
   ]
  },
  {
   "cell_type": "code",
   "execution_count": 246,
   "id": "33661ca7-7d62-4d75-a99b-4a250deb40ee",
   "metadata": {},
   "outputs": [
    {
     "data": {
      "text/plain": [
       "flat_type              0.401763\n",
       "storey_range           1.091370\n",
       "floor_area_sqm         0.367871\n",
       "lease_commence_date    0.623377\n",
       "resale_price           0.920487\n",
       "year                   0.296607\n",
       "months                -0.041267\n",
       "dtype: float64"
      ]
     },
     "execution_count": 246,
     "metadata": {},
     "output_type": "execute_result"
    }
   ],
   "source": [
    "#checking the skewness\n",
    "from scipy import stats\n",
    "df1.skew()"
   ]
  },
  {
   "cell_type": "code",
   "execution_count": 247,
   "id": "b82f1ce9-3e57-4201-97f4-9cdb894a15c1",
   "metadata": {},
   "outputs": [],
   "source": [
    "#encoding the categorical column flat model and town\n",
    "from sklearn.preprocessing import OneHotEncoder\n",
    "ohe=OneHotEncoder()\n",
    "ohe1=ohe.fit_transform(df[[\"town\"]]).toarray()\n",
    "ohe2=ohe.fit_transform(df[[\"flat_model\"]]).toarray()\n"
   ]
  },
  {
   "cell_type": "code",
   "execution_count": 248,
   "id": "dd13d5a4-1143-4a01-8ba9-4d54026ed911",
   "metadata": {},
   "outputs": [],
   "source": [
    "x=(df[[\"storey_range\",\"floor_area_sqm\",\"lease_commence_date\",\"year\"]])"
   ]
  },
  {
   "cell_type": "code",
   "execution_count": 250,
   "id": "e7ea14a0-415e-4219-9ea5-7d0bb8c52a4a",
   "metadata": {},
   "outputs": [],
   "source": [
    "#independent features\n",
    "X=np.concatenate((x[[\"storey_range\",\"floor_area_sqm\",\"lease_commence_date\",\"year\"]].values,ohe1,ohe2),axis=1)"
   ]
  },
  {
   "cell_type": "code",
   "execution_count": 251,
   "id": "2b3b6bcb-7055-408f-b043-02f0ed6a6954",
   "metadata": {},
   "outputs": [],
   "source": [
    "#target variable\n",
    "y=df[\"resale_price\"]"
   ]
  },
  {
   "cell_type": "code",
   "execution_count": 252,
   "id": "9ff057a8-ad79-437a-981f-f39939e7f17d",
   "metadata": {},
   "outputs": [],
   "source": [
    "#scaling the data \n",
    "from sklearn.preprocessing import StandardScaler\n",
    "scaler = StandardScaler()\n",
    "X = scaler.fit_transform(X)"
   ]
  },
  {
   "cell_type": "code",
   "execution_count": 253,
   "id": "552e725f-ab07-44cb-8360-bf34e4e1cc6d",
   "metadata": {},
   "outputs": [],
   "source": [
    "#splitting the data into training and testing \n",
    "from sklearn.model_selection import train_test_split\n",
    "X_train,X_test,y_train,y_test=train_test_split(X,y,test_size=0.20,random_state=5)\n"
   ]
  },
  {
   "cell_type": "code",
   "execution_count": 254,
   "id": "0c14a14c-c794-4f9c-ac8b-9351e7a61da8",
   "metadata": {},
   "outputs": [
    {
     "name": "stdout",
     "output_type": "stream",
     "text": [
      "Training Accuracy: 0.8306749085092139\n",
      "Testing Accuracy: 0.8295006568642647\n",
      "RMSE: 68593.14\n"
     ]
    }
   ],
   "source": [
    "#Fitting the regression model\n",
    "from sklearn.linear_model import LinearRegression\n",
    "from sklearn.metrics import r2_score,mean_squared_error\n",
    "model=LinearRegression()\n",
    "model.fit(X_train,y_train)\n",
    "y_pred=model.predict(X_test)\n",
    "print(\"Training Accuracy:\", model.score(X_train, y_train))\n",
    "print(\"Testing Accuracy:\",r2_score(y_test,y_pred))\n",
    "print(f'RMSE: {mean_squared_error(y_test,y_pred, squared=False):.2f}')\n"
   ]
  },
  {
   "cell_type": "code",
   "execution_count": 255,
   "id": "e1581a1c-2429-4398-aabf-e171d7ec619f",
   "metadata": {},
   "outputs": [
    {
     "name": "stdout",
     "output_type": "stream",
     "text": [
      "[0.83007277 0.82949255 0.83288059 0.82987283 0.8300208  0.83152178\n",
      " 0.83070564 0.82789301 0.83106723 0.83281676]\n"
     ]
    }
   ],
   "source": [
    "#cross validating the linear regression model\n",
    "from sklearn.model_selection import cross_val_score\n",
    "print(cross_val_score(model,X_train,y_train,cv=10))"
   ]
  },
  {
   "cell_type": "code",
   "execution_count": 256,
   "id": "2131b98d-e12d-40a0-a3b7-44e1eec54c4e",
   "metadata": {},
   "outputs": [
    {
     "name": "stdout",
     "output_type": "stream",
     "text": [
      "R^2 of model: 0.991\n",
      "RMSE: 30401.70\n",
      "R^2 of predictions: 0.967\n"
     ]
    }
   ],
   "source": [
    "#Fitting the Decision Tree Model\n",
    "from sklearn.tree import DecisionTreeRegressor\n",
    "dtr = DecisionTreeRegressor()\n",
    "dtr.fit(X_train, y_train)\n",
    "print(f'R^2 of model: {dtr.score(X_train, y_train):.3f}')\n",
    "pred = dtr.predict(X_test)\n",
    "print(f'RMSE: {mean_squared_error(y_test, pred, squared=False):.2f}')\n",
    "print(f'R^2 of predictions: {r2_score(y_test, pred):.3f}')"
   ]
  },
  {
   "cell_type": "code",
   "execution_count": 257,
   "id": "56c94846-247a-4c7e-8621-ece4ad037d7c",
   "metadata": {},
   "outputs": [
    {
     "name": "stdout",
     "output_type": "stream",
     "text": [
      "[0.96557384 0.96469337 0.96571449 0.96548187 0.965197   0.96642802\n",
      " 0.96584789 0.96533149 0.96556723 0.96638543]\n"
     ]
    }
   ],
   "source": [
    "#cross validating the decision tree regression model\n",
    "from sklearn.model_selection import cross_val_score\n",
    "print(cross_val_score(dtr,X_train,y_train,cv=10))"
   ]
  }
 ],
 "metadata": {
  "kernelspec": {
   "display_name": "Python 3 (ipykernel)",
   "language": "python",
   "name": "python3"
  },
  "language_info": {
   "codemirror_mode": {
    "name": "ipython",
    "version": 3
   },
   "file_extension": ".py",
   "mimetype": "text/x-python",
   "name": "python",
   "nbconvert_exporter": "python",
   "pygments_lexer": "ipython3",
   "version": "3.11.4"
  }
 },
 "nbformat": 4,
 "nbformat_minor": 5
}
